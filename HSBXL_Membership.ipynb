{
 "cells": [
  {
   "cell_type": "markdown",
   "metadata": {},
   "source": [
    "# HSBXL Membership Tracker\n",
    "\n",
    "The goal of this notebook is to establish the financial status of **HSBXL** \n",
    "(aka Hackerspace Brussels, http://www.hackerspace.be)"
   ]
  },
  {
   "cell_type": "markdown",
   "metadata": {},
   "source": [
    "## 1. Import required libraries"
   ]
  },
  {
   "cell_type": "code",
   "execution_count": null,
   "metadata": {
    "collapsed": false
   },
   "outputs": [],
   "source": [
    "import csv\n",
    "import glob\n",
    "from pprint import pprint\n",
    "\n",
    "from datetime import datetime, date\n",
    "from IPython.core.display import HTML"
   ]
  },
  {
   "cell_type": "code",
   "execution_count": null,
   "metadata": {
    "collapsed": true
   },
   "outputs": [],
   "source": [
    "def str_to_date(string):\n",
    "    return datetime.strptime(string, \"%d-%m-%Y\").date()"
   ]
  },
  {
   "cell_type": "markdown",
   "metadata": {},
   "source": [
    "## 2. Define parsing functions"
   ]
  },
  {
   "cell_type": "code",
   "execution_count": null,
   "metadata": {
    "collapsed": true
   },
   "outputs": [],
   "source": [
    "def read_bank_csv(filename):\n",
    "    with open(filename, encoding='latin1') as csvfile:\n",
    "        csvfile.readline()\n",
    "        csvfile.readline()\n",
    "        reader = csv.reader(csvfile, delimiter=';')\n",
    "        for row in reader:\n",
    "            yield row"
   ]
  },
  {
   "cell_type": "code",
   "execution_count": null,
   "metadata": {
    "collapsed": false
   },
   "outputs": [],
   "source": [
    "# CSV fields in order:\n",
    "args = ['value_date', 'operation_id', 'description', 'amount', 'currency', 'operation_date', \n",
    "        'from_account', 'from_name', 'communication1', 'communication2']\n",
    "\n",
    "def parse_row(row):\n",
    "    \"Parse a row from the CSV, and convert fields that can be converted (amount, dates).\"\n",
    "    result = {args[i]: row[i] for i in range(len(args))}\n",
    "    result['amount'] = float(result['amount'].replace('.', '').replace(',', '.'))\n",
    "    result['value_date'] = str_to_date(result['value_date'])\n",
    "    result['operation_date'] = str_to_date(result['operation_date'])\n",
    "    return result"
   ]
  },
  {
   "cell_type": "code",
   "execution_count": null,
   "metadata": {
    "collapsed": false
   },
   "outputs": [],
   "source": [
    "def list_bank_csvs():\n",
    "    return glob.glob('bank/*/*.csv')"
   ]
  },
  {
   "cell_type": "code",
   "execution_count": null,
   "metadata": {
    "collapsed": true
   },
   "outputs": [],
   "source": [
    "def list_all_rows():\n",
    "    \"Yield rows from all bank CSV files.\"\n",
    "    # This takes care of duplicate rows !!!\n",
    "    already_seen = set()\n",
    "    for csvfile in list_bank_csvs():\n",
    "        for row in read_bank_csv(csvfile):\n",
    "            parsed = parse_row(row)\n",
    "            \n",
    "            if parsed['operation_id'] not in already_seen:\n",
    "                already_seen.add(parsed['operation_id'])\n",
    "                yield parsed\n",
    "            else:\n",
    "                # Duplicate\n",
    "                continue"
   ]
  },
  {
   "cell_type": "code",
   "execution_count": null,
   "metadata": {
    "collapsed": true
   },
   "outputs": [],
   "source": [
    "def list_all_membership_rows():\n",
    "    \"Yield rows that match a membership, parsed.\"\n",
    "    for row in list_all_rows():\n",
    "        if row['description'] != \"Virement en votre faveur\":\n",
    "            # Probably expense, skip it\n",
    "            continue\n",
    "        elif not row['communication1'].startswith('+++'):\n",
    "            # Probably not a membership, skip it\n",
    "            continue\n",
    "        else:\n",
    "            yield row"
   ]
  },
  {
   "cell_type": "markdown",
   "metadata": {},
   "source": [
    "## 3. Extract transfer info per member"
   ]
  },
  {
   "cell_type": "code",
   "execution_count": null,
   "metadata": {
    "collapsed": false
   },
   "outputs": [],
   "source": []
  },
  {
   "cell_type": "code",
   "execution_count": null,
   "metadata": {
    "collapsed": false,
    "scrolled": true
   },
   "outputs": [],
   "source": [
    "memberships = {}\n",
    "\n",
    "for row in list_all_membership_rows():\n",
    "    \n",
    "    # Membership id is +++XXX/XXXX/XXXXX+++ in bank tansferts\n",
    "    membership_id = row['communication1']\n",
    "\n",
    "    if membership_id not in memberships:\n",
    "        memberships[membership_id] = [row]\n",
    "    else:\n",
    "        memberships[membership_id].append(row)"
   ]
  },
  {
   "cell_type": "code",
   "execution_count": null,
   "metadata": {
    "collapsed": false
   },
   "outputs": [],
   "source": [
    "print(len(memberships), \"distinct members paid by clean transfer.\")"
   ]
  },
  {
   "cell_type": "markdown",
   "metadata": {},
   "source": [
    "## 4. Total membership paid per person"
   ]
  },
  {
   "cell_type": "code",
   "execution_count": null,
   "metadata": {
    "collapsed": false,
    "scrolled": false
   },
   "outputs": [],
   "source": [
    "paid_total = {membership[0]['from_name']: sum(transfer['amount'] \n",
    "                                              for transfer in membership)\n",
    "              for membership in memberships.values()}\n",
    "\n",
    "paid_total"
   ]
  },
  {
   "cell_type": "markdown",
   "metadata": {},
   "source": [
    "## 4.b. How much membership did Jack donate so far ?"
   ]
  },
  {
   "cell_type": "code",
   "execution_count": null,
   "metadata": {
    "collapsed": false,
    "scrolled": true
   },
   "outputs": [],
   "source": [
    "for membership in memberships.values():\n",
    "    if 'JACK' in membership[0]['from_name']:\n",
    "        pprint(membership)"
   ]
  },
  {
   "cell_type": "markdown",
   "metadata": {},
   "source": [
    "## 5.a. Money in & out in 2015"
   ]
  },
  {
   "cell_type": "code",
   "execution_count": null,
   "metadata": {
    "collapsed": false,
    "scrolled": true
   },
   "outputs": [],
   "source": [
    "total_in = 0\n",
    "total_out = 0\n",
    "max_date = date(1, 1, 1)\n",
    "\n",
    "for row in list_all_rows():\n",
    "    if row['value_date'] < date(2015, 1, 1):\n",
    "        continue\n",
    "    if row['value_date'] > max_date:\n",
    "        max_date = row['value_date']\n",
    "\n",
    "    if row['amount'] > 0:\n",
    "        total_in += row['amount']\n",
    "    else:\n",
    "        total_out += row['amount']\n",
    "            \n",
    "print(\"Total in:  \", total_in)\n",
    "print(\"     out:\", total_out)\n",
    "print('From january untill', max_date)"
   ]
  },
  {
   "cell_type": "markdown",
   "metadata": {},
   "source": [
    "## 5.b. Money in from 'clean' membership transfer\n",
    "\n",
    "Where 'clean' membership only counts members that paid by bank transfert with their +++ code as communication.\n",
    "\n",
    "Note that some people may have paid at the beginning of the year, and therefore."
   ]
  },
  {
   "cell_type": "code",
   "execution_count": null,
   "metadata": {
    "collapsed": false
   },
   "outputs": [],
   "source": [
    "total_membership_in = 0\n",
    "duration = max_date - date(2015, 1, 1)\n",
    "\n",
    "for membership in memberships.values():\n",
    "    for transfer in membership:\n",
    "        if transfer['value_date'] < date(2015, 1, 1):\n",
    "            continue\n",
    "        total_membership_in += transfer['amount']\n",
    "        \n",
    "print(\"Total in from membership:\", total_membership_in)\n",
    "print(\"in\", duration.days, \"days\")\n",
    "print(\"This is\", total_membership_in / duration.days, \"per day\")\n",
    "print(\"     or\", 30 * total_membership_in / duration.days, \"per month\" )\n",
    "print(\"This represents\", 100 * total_membership_in / total_in, \"% of all income\")"
   ]
  },
  {
   "cell_type": "code",
   "execution_count": null,
   "metadata": {
    "collapsed": true
   },
   "outputs": [],
   "source": []
  }
 ],
 "metadata": {
  "kernelspec": {
   "display_name": "Python 3",
   "language": "python",
   "name": "python3"
  },
  "language_info": {
   "codemirror_mode": {
    "name": "ipython",
    "version": 3
   },
   "file_extension": ".py",
   "mimetype": "text/x-python",
   "name": "python",
   "nbconvert_exporter": "python",
   "pygments_lexer": "ipython3",
   "version": "3.4.3"
  }
 },
 "nbformat": 4,
 "nbformat_minor": 0
}
